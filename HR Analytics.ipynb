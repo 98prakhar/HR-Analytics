{
 "cells": [
  {
   "cell_type": "markdown",
   "id": "83f563ba",
   "metadata": {},
   "source": [
    "# HR Analytics Project\n",
    "\n",
    "## Project Description\n",
    "\n",
    "This Jupyter Notebook contains the analysis and findings of the HR Analytics project. The project's main objective is to analyze employee attrition within the organization and identify factors that contribute to attrition. We explore various aspects such as employee satisfaction, career progression, work-life balance, and more to gain insights into attrition patterns.\n",
    "\n",
    "The analysis includes data cleaning, data visualization, and recommendations for HR strategies based on the findings.\n",
    "\n",
    "LinkedIn: [Prakhar Yadav](https://www.linkedin.com/in/prakhar-yadav-8271231a0/)\n",
    "\n",
    "GitHub: [98prakhar](https://github.com/98prakhar/HR-Analytics-MeriSkill)\n"
   ]
  },
  {
   "cell_type": "markdown",
   "id": "352b502f",
   "metadata": {},
   "source": [
    "##  Import Libraries"
   ]
  },
  {
   "cell_type": "code",
   "execution_count": null,
   "id": "9c393dbd",
   "metadata": {},
   "outputs": [],
   "source": [
    "import pandas as pd\n",
    "import numpy as np\n",
    "import matplotlib.pyplot as plt\n",
    "import seaborn as sns\n"
   ]
  },
  {
   "cell_type": "markdown",
   "id": "eaead045",
   "metadata": {},
   "source": [
    " ## Load the Data"
   ]
  },
  {
   "cell_type": "code",
   "execution_count": null,
   "id": "fcd1c657",
   "metadata": {},
   "outputs": [],
   "source": [
    "df = pd.read_csv(\"C:/Users/Lenovo/Desktop/Meri skill Project/drive-download-20231003T163556Z-001/Project 3 - HR Analytics/Data P3 MeriSKILL/HR-Employee-Attrition.csv\")"
   ]
  },
  {
   "cell_type": "markdown",
   "id": "1bbab856",
   "metadata": {},
   "source": [
    "##  Data Exploration"
   ]
  },
  {
   "cell_type": "code",
   "execution_count": null,
   "id": "0bd8255c",
   "metadata": {},
   "outputs": [],
   "source": [
    "df.head()\n"
   ]
  },
  {
   "cell_type": "code",
   "execution_count": null,
   "id": "6328af99",
   "metadata": {},
   "outputs": [],
   "source": [
    "df.tail()"
   ]
  },
  {
   "cell_type": "code",
   "execution_count": null,
   "id": "64f699f2",
   "metadata": {},
   "outputs": [],
   "source": [
    "df.describe()"
   ]
  },
  {
   "cell_type": "code",
   "execution_count": null,
   "id": "decf1d3f",
   "metadata": {},
   "outputs": [],
   "source": [
    "df.info()"
   ]
  },
  {
   "cell_type": "markdown",
   "id": "88f4a51d",
   "metadata": {},
   "source": [
    "## Data Cleaning and Preprocessing"
   ]
  },
  {
   "cell_type": "code",
   "execution_count": null,
   "id": "1abbb514",
   "metadata": {},
   "outputs": [],
   "source": [
    "df.dropna(inplace=True)"
   ]
  },
  {
   "cell_type": "code",
   "execution_count": null,
   "id": "3bdbdda3",
   "metadata": {},
   "outputs": [],
   "source": [
    "df.isnull().sum()"
   ]
  },
  {
   "cell_type": "code",
   "execution_count": null,
   "id": "ca9ce1fc",
   "metadata": {},
   "outputs": [],
   "source": [
    "df = df.drop([\"EmployeeCount\", \"Over18\", \"StandardHours\"], axis=1)"
   ]
  },
  {
   "cell_type": "code",
   "execution_count": null,
   "id": "079fdc69",
   "metadata": {},
   "outputs": [],
   "source": [
    "df = df.rename(columns={\"Attrition\": \"Attrition\", \"JobSatisfaction\": \"Job_Satisfaction\",})"
   ]
  },
  {
   "cell_type": "code",
   "execution_count": null,
   "id": "9cd564d0",
   "metadata": {},
   "outputs": [],
   "source": [
    "df = df.dropna()"
   ]
  },
  {
   "cell_type": "code",
   "execution_count": null,
   "id": "b81ad9b7",
   "metadata": {},
   "outputs": [],
   "source": [
    "df.head()"
   ]
  },
  {
   "cell_type": "code",
   "execution_count": null,
   "id": "c4995e76",
   "metadata": {},
   "outputs": [],
   "source": [
    "import matplotlib.pyplot as plt\n",
    "import seaborn as sns"
   ]
  },
  {
   "cell_type": "code",
   "execution_count": null,
   "id": "4c3c4099",
   "metadata": {},
   "outputs": [],
   "source": [
    "categorical_vars = [\"BusinessTravel\", \"Department\", \"Gender\", \"JobRole\", \"MaritalStatus\"]\n",
    "for var in categorical_vars:\n",
    "    plt.figure(figsize=(8, 5))\n",
    "    sns.countplot(data=df, x=var, hue=\"Attrition\")\n",
    "    plt.title(f\"Distribution of {var} vs. Attrition\")\n",
    "    plt.xticks(rotation=45)\n",
    "    plt.show()"
   ]
  },
  {
   "cell_type": "code",
   "execution_count": null,
   "id": "bf7926f0",
   "metadata": {},
   "outputs": [],
   "source": [
    "# Explore the distribution of numeric variables\n",
    "numeric_vars = [\"Age\", \"MonthlyIncome\", \"YearsAtCompany\", \"YearsInCurrentRole\"]\n",
    "for var in numeric_vars:\n",
    "    plt.figure(figsize=(8, 5))\n",
    "    sns.boxplot(data=df, y=var, x=\"Attrition\")\n",
    "    plt.title(f\"Distribution of {var} vs. Attrition\")\n",
    "    plt.show()\n"
   ]
  },
  {
   "cell_type": "code",
   "execution_count": null,
   "id": "f89e8709",
   "metadata": {},
   "outputs": [],
   "source": [
    "# Calculate and visualize the correlation between numeric variables\n",
    "correlation_matrix = df[numeric_vars].corr()\n",
    "sns.heatmap(correlation_matrix, annot=True, cmap=\"coolwarm\")\n",
    "plt.title(\"Correlation Matrix\")\n",
    "plt.show()"
   ]
  },
  {
   "cell_type": "markdown",
   "id": "a97280bd",
   "metadata": {},
   "source": [
    "## Analyze Attrition"
   ]
  },
  {
   "cell_type": "code",
   "execution_count": null,
   "id": "20c2d47c",
   "metadata": {},
   "outputs": [],
   "source": [
    "# Understand the distribution of Attrition\n",
    "plt.figure(figsize=(6, 4))\n",
    "sns.countplot(data=df, x=\"Attrition\")\n",
    "plt.title(\"Attrition Distribution\")\n",
    "plt.show()"
   ]
  },
  {
   "cell_type": "code",
   "execution_count": null,
   "id": "166fb1e4",
   "metadata": {},
   "outputs": [],
   "source": [
    "# Explore factors related to attrition\n",
    "attrition_factors = [\"MaritalStatus\", \"JobRole\", \"Education\"]\n",
    "for var in attrition_factors:\n",
    "    plt.figure(figsize=(8, 5))\n",
    "    sns.countplot(data=df, x=var, hue=\"Attrition\")\n",
    "    plt.title(f\"{var} vs. Attrition\")\n",
    "    plt.xticks(rotation=45)\n",
    "    plt.show()"
   ]
  },
  {
   "cell_type": "markdown",
   "id": "c5c12a86",
   "metadata": {},
   "source": [
    "## Employee Satisfaction and Engagement"
   ]
  },
  {
   "cell_type": "code",
   "execution_count": null,
   "id": "47daf59e",
   "metadata": {},
   "outputs": [],
   "source": [
    "# Analyze employee satisfaction and engagement\n",
    "satisfaction_vars = [\"Job_Satisfaction\", \"EnvironmentSatisfaction\", \"RelationshipSatisfaction\", \"WorkLifeBalance\"]\n",
    "for var in satisfaction_vars:\n",
    "    plt.figure(figsize=(8, 5))\n",
    "    sns.countplot(data=df, x=var, hue=\"Attrition\")\n",
    "    plt.title(f\"{var} vs. Attrition\")\n",
    "    plt.show()\n"
   ]
  },
  {
   "cell_type": "code",
   "execution_count": null,
   "id": "522e2432",
   "metadata": {},
   "outputs": [],
   "source": [
    "# Investigate the relationship between JobInvolvement and Attrition\n",
    "plt.figure(figsize=(6, 4))\n",
    "sns.countplot(data=df, x=\"JobInvolvement\", hue=\"Attrition\")\n",
    "plt.title(\"JobInvolvement vs. Attrition\")\n",
    "plt.show()"
   ]
  },
  {
   "cell_type": "markdown",
   "id": "e918db36",
   "metadata": {},
   "source": [
    "## Career Progression"
   ]
  },
  {
   "cell_type": "code",
   "execution_count": null,
   "id": "6a2a2038",
   "metadata": {},
   "outputs": [],
   "source": [
    "# Analyze employee career progression\n",
    "plt.figure(figsize=(8, 5))\n",
    "sns.boxplot(data=df, y=\"JobLevel\", x=\"YearsInCurrentRole\")\n",
    "plt.title(\"Job Level vs. Years in Current Role\")\n",
    "plt.show()"
   ]
  },
  {
   "cell_type": "code",
   "execution_count": null,
   "id": "cbd97f19",
   "metadata": {},
   "outputs": [],
   "source": [
    "# Investigate the relationship between promotions and attrition\n",
    "plt.figure(figsize=(6, 4))\n",
    "sns.countplot(data=df, x=\"YearsSinceLastPromotion\", hue=\"Attrition\")\n",
    "plt.title(\"Years Since Last Promotion vs. Attrition\")\n",
    "plt.xticks(rotation=45)\n",
    "plt.show()"
   ]
  },
  {
   "cell_type": "markdown",
   "id": "e23e4f7a",
   "metadata": {},
   "source": [
    "## Work-Life Balance and Overtime"
   ]
  },
  {
   "cell_type": "code",
   "execution_count": null,
   "id": "2e5bc2d0",
   "metadata": {},
   "outputs": [],
   "source": [
    "# Analyze the impact of work-life balance and overtime on attrition\n",
    "plt.figure(figsize=(6, 4))\n",
    "sns.countplot(data=df, x=\"OverTime\", hue=\"Attrition\")\n",
    "plt.title(\"OverTime vs. Attrition\")\n",
    "plt.show()"
   ]
  },
  {
   "cell_type": "code",
   "execution_count": null,
   "id": "1846e0c1",
   "metadata": {},
   "outputs": [],
   "source": [
    "plt.figure(figsize=(8, 5))\n",
    "sns.countplot(data=df, x=\"WorkLifeBalance\", hue=\"Attrition\")\n",
    "plt.title(\"WorkLifeBalance vs. Attrition\")\n",
    "plt.show()"
   ]
  },
  {
   "cell_type": "markdown",
   "id": "d8a27a13",
   "metadata": {},
   "source": [
    "## Analyze Attrition"
   ]
  },
  {
   "cell_type": "code",
   "execution_count": null,
   "id": "2d385902",
   "metadata": {},
   "outputs": [],
   "source": [
    "# Understand the distribution of Attrition\n",
    "plt.figure(figsize=(6, 4))\n",
    "sns.countplot(data=df, x=\"Attrition\")\n",
    "plt.title(\"Attrition Distribution\")\n",
    "plt.show()"
   ]
  },
  {
   "cell_type": "markdown",
   "id": "9d8da1fa",
   "metadata": {},
   "source": [
    "# Explore factors related to attrition\n"
   ]
  },
  {
   "cell_type": "code",
   "execution_count": null,
   "id": "5465de2d",
   "metadata": {
    "scrolled": false
   },
   "outputs": [],
   "source": [
    "# Analyze employee satisfaction and engagement\n",
    "satisfaction_vars = [\"Job_Satisfaction\", \"EnvironmentSatisfaction\", \"RelationshipSatisfaction\", \"WorkLifeBalance\"]\n",
    "for var in satisfaction_vars:\n",
    "    plt.figure(figsize=(8, 5))\n",
    "    sns.countplot(data=df, x=var, hue=\"Attrition\")\n",
    "    plt.title(f\"{var} vs. Attrition\")\n",
    "    plt.show()\n"
   ]
  },
  {
   "cell_type": "code",
   "execution_count": null,
   "id": "e566cf4a",
   "metadata": {},
   "outputs": [],
   "source": [
    "# Investigate the relationship between JobInvolvement and Attrition\n",
    "plt.figure(figsize=(6, 4))\n",
    "sns.countplot(data=df, x=\"JobInvolvement\", hue=\"Attrition\")\n",
    "plt.title(\"JobInvolvement vs. Attrition\")\n",
    "plt.show()"
   ]
  },
  {
   "cell_type": "markdown",
   "id": "381867b8",
   "metadata": {},
   "source": [
    "## Career Progression"
   ]
  },
  {
   "cell_type": "code",
   "execution_count": null,
   "id": "6610853c",
   "metadata": {},
   "outputs": [],
   "source": [
    "# Analyze employee career progression\n",
    "plt.figure(figsize=(8, 5))\n",
    "sns.boxplot(data=df, y=\"JobLevel\", x=\"YearsInCurrentRole\")\n",
    "plt.title(\"Job Level vs. Years in Current Role\")\n",
    "plt.xlabel(\"Years in Current Role\")\n",
    "plt.ylabel(\"Job Level\")\n",
    "plt.show()"
   ]
  },
  {
   "cell_type": "code",
   "execution_count": null,
   "id": "28673976",
   "metadata": {},
   "outputs": [],
   "source": [
    "# Investigate the relationship between promotions and attrition\n",
    "plt.figure(figsize=(8, 5))\n",
    "sns.countplot(data=df, x=\"YearsSinceLastPromotion\", hue=\"Attrition\")\n",
    "plt.title(\"Years Since Last Promotion vs. Attrition\")\n",
    "plt.xlabel(\"Years Since Last Promotion\")\n",
    "plt.xticks(rotation=45)\n",
    "plt.show()"
   ]
  },
  {
   "cell_type": "markdown",
   "id": "22297c76",
   "metadata": {},
   "source": [
    "## Work-Life Balance and Overtime"
   ]
  },
  {
   "cell_type": "code",
   "execution_count": null,
   "id": "08e9552e",
   "metadata": {},
   "outputs": [],
   "source": [
    "# Analyze the impact of work-life balance on attrition\n",
    "plt.figure(figsize=(8, 5))\n",
    "sns.countplot(data=df, x=\"OverTime\", hue=\"Attrition\")\n",
    "plt.title(\"OverTime vs. Attrition\")\n",
    "plt.xlabel(\"Overtime\")\n",
    "plt.show()"
   ]
  },
  {
   "cell_type": "code",
   "execution_count": null,
   "id": "84db5247",
   "metadata": {},
   "outputs": [],
   "source": [
    "# Investigate the relationship between work-life balance and attrition\n",
    "plt.figure(figsize=(8, 5))\n",
    "sns.countplot(data=df, x=\"WorkLifeBalance\", hue=\"Attrition\")\n",
    "plt.title(\"WorkLifeBalance vs. Attrition\")\n",
    "plt.xlabel(\"Work-Life Balance\")\n",
    "plt.show()"
   ]
  },
  {
   "cell_type": "markdown",
   "id": "9c522692",
   "metadata": {},
   "source": [
    "## Conclusion and Recommendations"
   ]
  },
  {
   "cell_type": "code",
   "execution_count": null,
   "id": "534906e7",
   "metadata": {},
   "outputs": [],
   "source": [
    "# Summarize your findings\n",
    "print(\"Summary of Findings:\")\n",
    "print(\"- Attrition Distribution:\")\n",
    "attrition_counts = df['Attrition'].value_counts()\n",
    "print(attrition_counts)"
   ]
  },
  {
   "cell_type": "code",
   "execution_count": null,
   "id": "5904f5a1",
   "metadata": {},
   "outputs": [],
   "source": [
    "# Provide recommendations\n",
    "print(\"\\nRecommendations:\")\n",
    "print(\"- Consider improving work-life balance to reduce attrition among employees.\")\n",
    "print(\"- Monitor the impact of overtime work on attrition and take necessary actions to manage workload.\")\n",
    "print(\"- Focus on career development opportunities, such as promotions and skill development, to enhance job satisfaction.\")\n",
    "print(\"- Conduct exit interviews with departing employees to gather more insights into attrition reasons.\")\n"
   ]
  },
  {
   "cell_type": "code",
   "execution_count": null,
   "id": "d72c1035",
   "metadata": {},
   "outputs": [],
   "source": [
    "# Overall Conclusion\n",
    "print(\"\\nOverall Conclusion:\")\n",
    "print(\"Based on the analysis, we have identified several factors that are related to attrition within the organization. It's important for the company to address these factors in order to improve employee retention and satisfaction. By implementing the recommended actions, the company can work towards reducing attrition and creating a more positive work environment.\")"
   ]
  },
  {
   "cell_type": "code",
   "execution_count": null,
   "id": "72a78794",
   "metadata": {},
   "outputs": [],
   "source": []
  }
 ],
 "metadata": {
  "kernelspec": {
   "display_name": "Python 3 (ipykernel)",
   "language": "python",
   "name": "python3"
  },
  "language_info": {
   "codemirror_mode": {
    "name": "ipython",
    "version": 3
   },
   "file_extension": ".py",
   "mimetype": "text/x-python",
   "name": "python",
   "nbconvert_exporter": "python",
   "pygments_lexer": "ipython3",
   "version": "3.11.5"
  }
 },
 "nbformat": 4,
 "nbformat_minor": 5
}
